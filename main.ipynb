{
 "cells": [
  {
   "cell_type": "code",
   "execution_count": 4,
   "outputs": [],
   "source": [
    "import gzip\n",
    "import shutil\n",
    "with gzip.open('embedding/fasttext-sbwc.100k.vec.gz', 'rb') as f_in:\n",
    "    with open('embedding/glove.vec', 'wb') as f_out:\n",
    "        shutil.copyfileobj(f_in, f_out)\n",
    "\n"
   ],
   "metadata": {
    "collapsed": false,
    "pycharm": {
     "name": "#%%\n",
     "is_executing": false
    }
   }
  },
  {
   "cell_type": "markdown",
   "source": [
    "Probar Glove"
   ],
   "metadata": {
    "collapsed": false
   }
  },
  {
   "cell_type": "code",
   "execution_count": 6,
   "outputs": [
    {
     "name": "stderr",
     "text": [
      "2020-03-12 00:47:52,566 : loading projection weights from embedding/glove.vec\n",
      "2020-03-12 00:48:34,272 : loaded (100000, 300) matrix from embedding/glove.vec\n",
      "2020-03-12 00:48:34,318 : precomputing L2-norms of word weight vectors\n"
     ],
     "output_type": "stream"
    },
    {
     "name": "stdout",
     "text": [
      "[('subcontrato', 0.7460281252861023), ('rescindir', 0.7405178546905518), ('contratos', 0.721950113773346), ('rescindido', 0.7205334901809692), ('rescisión', 0.7185099124908447), ('rescindió', 0.7072504758834839), ('contractual', 0.6832615733146667), ('rescinde', 0.6749248504638672), ('contractualmente', 0.661700963973999), ('arrendamiento', 0.6427665948867798)]\n"
     ],
     "output_type": "stream"
    }
   ],
   "source": [
    "from gensim.models import KeyedVectors\n",
    "import logging\n",
    "\n",
    "logging.basicConfig(format='%(asctime)s : %(message)s', level=logging.INFO)\n",
    "\n",
    "vectors = KeyedVectors.load_word2vec_format('embedding/glove.vec')\n",
    "print(vectors.most_similar(['contrato']))\n"
   ],
   "metadata": {
    "collapsed": false,
    "pycharm": {
     "name": "#%%\n",
     "is_executing": false
    }
   }
  }
 ],
 "metadata": {
  "anaconda-cloud": {},
  "kernelspec": {
   "display_name": "Python 3",
   "language": "python",
   "name": "python3"
  },
  "language_info": {
   "codemirror_mode": {
    "name": "ipython",
    "version": 3
   },
   "file_extension": ".py",
   "mimetype": "text/x-python",
   "name": "python",
   "nbconvert_exporter": "python",
   "pygments_lexer": "ipython3",
   "version": "3.6.1"
  },
  "pycharm": {
   "stem_cell": {
    "cell_type": "raw",
    "source": [],
    "metadata": {
     "collapsed": false
    }
   }
  }
 },
 "nbformat": 4,
 "nbformat_minor": 1
}